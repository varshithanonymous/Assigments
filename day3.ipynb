{
  "nbformat": 4,
  "nbformat_minor": 0,
  "metadata": {
    "colab": {
      "provenance": []
    },
    "kernelspec": {
      "name": "python3",
      "display_name": "Python 3"
    },
    "language_info": {
      "name": "python"
    }
  },
  "cells": [
    {
      "cell_type": "code",
      "source": [
        "def calculate_grade(marks1, marks2, marks3):\n",
        "  \"\"\"\n",
        "  Calculates the grade based on the average of three subject marks.\n",
        "\n",
        "  Args:\n",
        "    marks1: Marks in the first subject.\n",
        "    marks2: Marks in the second subject.\n",
        "    marks3: Marks in the third subject.\n",
        "\n",
        "  Returns:\n",
        "    str: The calculated grade.\n",
        "  \"\"\"\n",
        "  average = (marks1 + marks2 + marks3) / 3\n",
        "\n",
        "  if average >= 90:\n",
        "    return \"Grade: A\"\n",
        "  elif 80 <= average < 90:\n",
        "    return \"Grade: B\"\n",
        "  elif 70 <= average < 80:\n",
        "    return \"Grade: C\"\n",
        "  else:\n",
        "    return \"Grade: Fail\"\n",
        "\n",
        "# Get input from the user\n",
        "marks1 = float(input(\"Enter marks in subject 1: \"))\n",
        "marks2 = float(input(\"Enter marks in subject 2: \"))\n",
        "marks3 = float(input(\"Enter marks in subject 3: \"))\n",
        "\n",
        "# Calculate and print the grade\n",
        "grade = calculate_grade(marks1, marks2, marks3)\n",
        "print(grade)"
      ],
      "metadata": {
        "id": "hBcEQKpOvdHq",
        "outputId": "903acf48-a0a0-4930-a418-44e55d742818",
        "colab": {
          "base_uri": "https://localhost:8080/"
        }
      },
      "execution_count": 2,
      "outputs": [
        {
          "output_type": "stream",
          "name": "stdout",
          "text": [
            "Enter marks in subject 1: 41\n",
            "Enter marks in subject 2: 23\n",
            "Enter marks in subject 3: 78\n",
            "Grade: Fail\n"
          ]
        }
      ]
    },
    {
      "cell_type": "code",
      "source": [],
      "metadata": {
        "id": "aCLAxdJ9vfNW"
      },
      "execution_count": null,
      "outputs": []
    }
  ]
}