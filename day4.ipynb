{
  "nbformat": 4,
  "nbformat_minor": 0,
  "metadata": {
    "colab": {
      "provenance": []
    },
    "kernelspec": {
      "name": "python3",
      "display_name": "Python 3"
    },
    "language_info": {
      "name": "python"
    }
  },
  "cells": [
    {
      "cell_type": "code",
      "execution_count": 1,
      "metadata": {
        "colab": {
          "base_uri": "https://localhost:8080/"
        },
        "id": "1Snk74Ng0RQL",
        "outputId": "e660e8ee-aae2-485e-be72-23143bd0a583"
      },
      "outputs": [
        {
          "output_type": "stream",
          "name": "stdout",
          "text": [
            "Enter a positive integer: 100\n",
            "The sum of all even numbers between 1 and 100 is: 2550\n"
          ]
        }
      ],
      "source": [
        "def sum_of_even_numbers(n):\n",
        "    total = 0\n",
        "    for number in range(1, n + 1):\n",
        "        if number % 2 == 0:\n",
        "            total += number\n",
        "    return total\n",
        "\n",
        "n = int(input(\"Enter a positive integer: \"))\n",
        "\n",
        "if n > 0:\n",
        "    result = sum_of_even_numbers(n)\n",
        "    print(f\"The sum of all even numbers between 1 and {n} is: {result}\")\n",
        "else:\n",
        "    print(\"Please enter a positive integer.\")\n"
      ]
    },
    {
      "cell_type": "code",
      "source": [],
      "metadata": {
        "id": "2gCehUm_0Te6"
      },
      "execution_count": null,
      "outputs": []
    }
  ]
}