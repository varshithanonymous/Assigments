{
  "nbformat": 4,
  "nbformat_minor": 0,
  "metadata": {
    "colab": {
      "provenance": []
    },
    "kernelspec": {
      "name": "python3",
      "display_name": "Python 3"
    },
    "language_info": {
      "name": "python"
    }
  },
  "cells": [
    {
      "cell_type": "code",
      "execution_count": 1,
      "metadata": {
        "colab": {
          "base_uri": "https://localhost:8080/"
        },
        "id": "egLpQ7oWzgNN",
        "outputId": "96178cf1-0ae9-4349-9ca8-eccd6e18072f"
      },
      "outputs": [
        {
          "output_type": "stream",
          "name": "stdout",
          "text": [
            "Integer Variable: 42 | Type: <class 'int'>\n",
            "Float Variable: 3.14 | Type: <class 'float'>\n",
            "String Variable: Hello, Varshith! | Type: <class 'str'>\n",
            "Boolean Variable: True | Type: <class 'bool'>\n"
          ]
        }
      ],
      "source": [
        "integer_var = 42\n",
        "float_var = 3.14\n",
        "string_var = \"Hello, Varshith!\"\n",
        "boolean_var = True\n",
        "\n",
        "print(\"Integer Variable:\", integer_var, \"| Type:\", type(integer_var))\n",
        "print(\"Float Variable:\", float_var, \"| Type:\", type(float_var))\n",
        "print(\"String Variable:\", string_var, \"| Type:\", type(string_var))\n",
        "print(\"Boolean Variable:\", boolean_var, \"| Type:\", type(boolean_var))\n"
      ]
    },
    {
      "cell_type": "code",
      "source": [],
      "metadata": {
        "id": "NngK-Vk1zu7u"
      },
      "execution_count": null,
      "outputs": []
    }
  ]
}