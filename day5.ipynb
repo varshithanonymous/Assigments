{
  "nbformat": 4,
  "nbformat_minor": 0,
  "metadata": {
    "colab": {
      "provenance": []
    },
    "kernelspec": {
      "name": "python3",
      "display_name": "Python 3"
    },
    "language_info": {
      "name": "python"
    }
  },
  "cells": [
    {
      "cell_type": "code",
      "execution_count": 2,
      "metadata": {
        "colab": {
          "base_uri": "https://localhost:8080/"
        },
        "id": "6RBhysmr1389",
        "outputId": "cc8f0ddd-076d-4854-d9ce-f603dff91084"
      },
      "outputs": [
        {
          "output_type": "stream",
          "name": "stdout",
          "text": [
            "Enter a text: Hi,im varshith bearing roll no 429 of aiml, this is my training assignment\n",
            "hiim: 1\n",
            "varshith: 1\n",
            "bearing: 1\n",
            "roll: 1\n",
            "no: 1\n",
            "429: 1\n",
            "of: 1\n",
            "aiml: 1\n",
            "this: 1\n",
            "is: 1\n",
            "my: 1\n",
            "training: 1\n",
            "assignment: 1\n"
          ]
        }
      ],
      "source": [
        "def word_frequency(text):\n",
        "    \"\"\"Calculate the frequency of each word in the given text.\"\"\"\n",
        "\n",
        "    import string\n",
        "    text = text.lower().translate(str.maketrans(\"\", \"\", string.punctuation))\n",
        "\n",
        "    words = text.split()\n",
        "\n",
        "    word_counts = {}\n",
        "    for word in words:\n",
        "        word_counts[word] = word_counts.get(word, 0) + 1\n",
        "\n",
        "    for word, count in word_counts.items():\n",
        "        print(f\"{word}: {count}\")\n",
        "\n",
        "text_input = input(\"Enter a text: \")\n",
        "word_frequency(text_input)\n"
      ]
    }
  ]
}