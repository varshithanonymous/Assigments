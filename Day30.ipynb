{
  "nbformat": 4,
  "nbformat_minor": 0,
  "metadata": {
    "colab": {
      "provenance": []
    },
    "kernelspec": {
      "name": "python3",
      "display_name": "Python 3"
    },
    "language_info": {
      "name": "python"
    }
  },
  "cells": [
    {
      "cell_type": "code",
      "execution_count": 13,
      "metadata": {
        "colab": {
          "base_uri": "https://localhost:8080/"
        },
        "id": "9wYgxCKXj0g1",
        "outputId": "7cdb0d1f-a89c-4b5c-9d65-c5600b578792"
      },
      "outputs": [
        {
          "output_type": "stream",
          "name": "stdout",
          "text": [
            "Enter a text for sentiment analysis: its very bad about what i feel its really too abbusive\n",
            "The sentiment of the given text is: Negative\n"
          ]
        }
      ],
      "source": [
        "from textblob import TextBlob\n",
        "\n",
        "def analyze_sentiment(text):\n",
        "    # Create a TextBlob object\n",
        "    blob = TextBlob(text)\n",
        "\n",
        "    # Get the sentiment polarity (ranges from -1 to 1)\n",
        "    polarity = blob.sentiment.polarity\n",
        "\n",
        "    # Determine sentiment based on polarity\n",
        "    if polarity > 0:\n",
        "        sentiment = \"Positive\"\n",
        "    elif polarity < 0:\n",
        "        sentiment = \"Negative\"\n",
        "    else:\n",
        "        sentiment = \"Neutral\"\n",
        "\n",
        "    return sentiment\n",
        "\n",
        "# Sample text\n",
        "text = input(\"Enter a text for sentiment analysis: \")\n",
        "\n",
        "# Analyze sentiment\n",
        "result = analyze_sentiment(text)\n",
        "\n",
        "# Display the result\n",
        "print(f\"The sentiment of the given text is: {result}\")\n"
      ]
    },
    {
      "cell_type": "code",
      "source": [],
      "metadata": {
        "id": "4Q701Imyk4l6"
      },
      "execution_count": null,
      "outputs": []
    }
  ]
}