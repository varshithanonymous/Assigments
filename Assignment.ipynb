{
  "nbformat": 4,
  "nbformat_minor": 0,
  "metadata": {
    "colab": {
      "provenance": []
    },
    "kernelspec": {
      "name": "python3",
      "display_name": "Python 3"
    },
    "language_info": {
      "name": "python"
    }
  },
  "cells": [
    {
      "cell_type": "code",
      "execution_count": 1,
      "metadata": {
        "colab": {
          "base_uri": "https://localhost:8080/"
        },
        "id": "cym45YmStHro",
        "outputId": "432331c3-f8c9-4477-fc59-cac372e16e3a"
      },
      "outputs": [
        {
          "output_type": "stream",
          "name": "stdout",
          "text": [
            "Enter username: varshith\n",
            "Enter password: password123\n",
            "Username is incorrect. Please try again.\n",
            "Enter username: admin\n",
            "Enter password: pass\n",
            "Password is incorrect. Please try again.\n",
            "Enter username: admin\n",
            "Enter password: password123\n",
            "Access granted!\n"
          ]
        }
      ],
      "source": [
        "username = \"admin\"\n",
        "pwd = \"password123\"\n",
        "\n",
        "validate_username = lambda u: u == username\n",
        "validate_password = lambda p: p == pwd\n",
        "\n",
        "while True:\n",
        "    user_input = input(\"Enter username: \")\n",
        "    pwd_input = input(\"Enter password: \")\n",
        "\n",
        "    if validate_username(user_input) and validate_password(pwd_input):\n",
        "        print(\"Access granted!\")\n",
        "        break\n",
        "    elif not validate_username(user_input) and not validate_password(pwd_input):\n",
        "        print(\"Both username and password are incorrect. Please try again.\")\n",
        "    elif not validate_username(user_input):\n",
        "        print(\"Username is incorrect. Please try again.\")\n",
        "    elif not validate_password(pwd_input):\n",
        "        print(\"Password is incorrect. Please try again.\")"
      ]
    }
  ]
}